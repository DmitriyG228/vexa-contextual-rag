{
 "cells": [
  {
   "cell_type": "code",
   "execution_count": null,
   "id": "d883d1d7",
   "metadata": {},
   "outputs": [],
   "source": [
    "%reload_ext autoreload\n",
    "%autoreload 2"
   ]
  },
  {
   "cell_type": "code",
   "execution_count": null,
   "id": "2fb825a2",
   "metadata": {},
   "outputs": [],
   "source": [
    "import pandas as pd\n",
    "from indexing.processor import IndexingProcessor\n",
    "from search.qdrant import QdrantSearchEngine\n",
    "from search.bm25 import ElasticsearchBM25\n",
    "import json\n",
    "from search.hybrid_search import search"
   ]
  },
  {
   "cell_type": "code",
   "execution_count": null,
   "id": "23a730b4",
   "metadata": {},
   "outputs": [],
   "source": [
    "\n",
    "qdrant_engine = QdrantSearchEngine()\n",
    "es_engine =  ElasticsearchBM25()\n",
    "await es_engine.initialize()\n",
    "\n",
    "\n",
    "processor = IndexingProcessor(qdrant_engine=qdrant_engine, es_engine=es_engine)"
   ]
  },
  {
   "cell_type": "code",
   "execution_count": null,
   "id": "7f1a52f4",
   "metadata": {},
   "outputs": [],
   "source": [
    "with open('data/meeting.json', 'r') as f:\n",
    "    data = json.load(f)"
   ]
  },
  {
   "cell_type": "code",
   "execution_count": null,
   "id": "77a7f0a9",
   "metadata": {},
   "outputs": [],
   "source": [
    "df =pd.DataFrame(data['segments'])"
   ]
  },
  {
   "cell_type": "code",
   "execution_count": null,
   "id": "29a2ae6b",
   "metadata": {},
   "outputs": [],
   "source": [
    "speakers = df['speaker'].dropna().unique().tolist()\n",
    "start_datetime = pd.to_datetime(df['absolute_start_time'].min())\n",
    "content_id = '1'"
   ]
  },
  {
   "cell_type": "code",
   "execution_count": null,
   "id": "4ab8acaf",
   "metadata": {},
   "outputs": [],
   "source": [
    "r = await processor._merge_chunks(df, content_id, start_datetime, speakers)\n",
    "await processor._index_to_search_engines(r[0], r[1])"
   ]
  },
  {
   "cell_type": "code",
   "execution_count": null,
   "id": "cdef74d5",
   "metadata": {},
   "outputs": [],
   "source": [
    "await search('meeting notetaker',qdrant_engine=qdrant_engine, es_engine=es_engine, k=1)\n"
   ]
  }
 ],
 "metadata": {
  "kernelspec": {
   "display_name": "vexa_rag",
   "language": "python",
   "name": "python3"
  },
  "language_info": {
   "codemirror_mode": {
    "name": "ipython",
    "version": 3
   },
   "file_extension": ".py",
   "mimetype": "text/x-python",
   "name": "python",
   "nbconvert_exporter": "python",
   "pygments_lexer": "ipython3",
   "version": "3.11.13"
  }
 },
 "nbformat": 4,
 "nbformat_minor": 5
}
